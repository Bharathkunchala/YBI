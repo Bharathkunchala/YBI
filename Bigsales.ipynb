{
 "cells": [
  {
   "cell_type": "markdown",
   "id": "b9248f55",
   "metadata": {},
   "source": [
    "# Big Sales Prediction Using Linear Regression"
   ]
  },
  {
   "cell_type": "markdown",
   "id": "6949470a",
   "metadata": {},
   "source": [
    "# Objective:sales prediction"
   ]
  },
  {
   "cell_type": "markdown",
   "id": "e5dcd6cc",
   "metadata": {},
   "source": [
    "# Data source:ybi foundation git hub\n",
    "    "
   ]
  },
  {
   "cell_type": "markdown",
   "id": "d854b224",
   "metadata": {},
   "source": [
    "# import library"
   ]
  },
  {
   "cell_type": "code",
   "execution_count": 114,
   "id": "694be3b1",
   "metadata": {},
   "outputs": [],
   "source": [
    "import pandas as pd"
   ]
  },
  {
   "cell_type": "code",
   "execution_count": 116,
   "id": "4a5de952",
   "metadata": {},
   "outputs": [],
   "source": [
    "import numpy as np"
   ]
  },
  {
   "cell_type": "markdown",
   "id": "c63d647f",
   "metadata": {},
   "source": [
    "# import csv as dataframe(import Data)"
   ]
  },
  {
   "cell_type": "code",
   "execution_count": 118,
   "id": "18925c8a",
   "metadata": {},
   "outputs": [],
   "source": [
    "sales=pd.read_csv(\"C:/Users/hi/Downloads/Big Sales Data.csv\")\n"
   ]
  },
  {
   "cell_type": "markdown",
   "id": "c6e5d92f",
   "metadata": {},
   "source": [
    "# Describe Data"
   ]
  },
  {
   "cell_type": "code",
   "execution_count": 120,
   "id": "5e8eaa8a",
   "metadata": {
    "scrolled": true
   },
   "outputs": [
    {
     "data": {
      "text/html": [
       "<div>\n",
       "<style scoped>\n",
       "    .dataframe tbody tr th:only-of-type {\n",
       "        vertical-align: middle;\n",
       "    }\n",
       "\n",
       "    .dataframe tbody tr th {\n",
       "        vertical-align: top;\n",
       "    }\n",
       "\n",
       "    .dataframe thead th {\n",
       "        text-align: right;\n",
       "    }\n",
       "</style>\n",
       "<table border=\"1\" class=\"dataframe\">\n",
       "  <thead>\n",
       "    <tr style=\"text-align: right;\">\n",
       "      <th></th>\n",
       "      <th>Item_Identifier</th>\n",
       "      <th>Item_Weight</th>\n",
       "      <th>Item_Fat_Content</th>\n",
       "      <th>Item_Visibility</th>\n",
       "      <th>Item_Type</th>\n",
       "      <th>Item_MRP</th>\n",
       "      <th>Outlet_Identifier</th>\n",
       "      <th>Outlet_Establishment_Year</th>\n",
       "      <th>Outlet_Size</th>\n",
       "      <th>Outlet_Location_Type</th>\n",
       "      <th>Outlet_Type</th>\n",
       "      <th>Item_Outlet_Sales</th>\n",
       "    </tr>\n",
       "  </thead>\n",
       "  <tbody>\n",
       "    <tr>\n",
       "      <th>0</th>\n",
       "      <td>FDT36</td>\n",
       "      <td>12.3</td>\n",
       "      <td>Low Fat</td>\n",
       "      <td>0.111448</td>\n",
       "      <td>Baking Goods</td>\n",
       "      <td>33.4874</td>\n",
       "      <td>OUT049</td>\n",
       "      <td>1999</td>\n",
       "      <td>Medium</td>\n",
       "      <td>Tier 1</td>\n",
       "      <td>Supermarket Type1</td>\n",
       "      <td>436.608721</td>\n",
       "    </tr>\n",
       "    <tr>\n",
       "      <th>1</th>\n",
       "      <td>FDT36</td>\n",
       "      <td>12.3</td>\n",
       "      <td>Low Fat</td>\n",
       "      <td>0.111904</td>\n",
       "      <td>Baking Goods</td>\n",
       "      <td>33.9874</td>\n",
       "      <td>OUT017</td>\n",
       "      <td>2007</td>\n",
       "      <td>Medium</td>\n",
       "      <td>Tier 2</td>\n",
       "      <td>Supermarket Type1</td>\n",
       "      <td>443.127721</td>\n",
       "    </tr>\n",
       "    <tr>\n",
       "      <th>2</th>\n",
       "      <td>FDT36</td>\n",
       "      <td>12.3</td>\n",
       "      <td>LF</td>\n",
       "      <td>0.111728</td>\n",
       "      <td>Baking Goods</td>\n",
       "      <td>33.9874</td>\n",
       "      <td>OUT018</td>\n",
       "      <td>2009</td>\n",
       "      <td>Medium</td>\n",
       "      <td>Tier 3</td>\n",
       "      <td>Supermarket Type2</td>\n",
       "      <td>564.598400</td>\n",
       "    </tr>\n",
       "    <tr>\n",
       "      <th>3</th>\n",
       "      <td>FDT36</td>\n",
       "      <td>12.3</td>\n",
       "      <td>Low Fat</td>\n",
       "      <td>0.000000</td>\n",
       "      <td>Baking Goods</td>\n",
       "      <td>34.3874</td>\n",
       "      <td>OUT019</td>\n",
       "      <td>1985</td>\n",
       "      <td>Small</td>\n",
       "      <td>Tier 1</td>\n",
       "      <td>Grocery Store</td>\n",
       "      <td>1719.370000</td>\n",
       "    </tr>\n",
       "    <tr>\n",
       "      <th>4</th>\n",
       "      <td>FDP12</td>\n",
       "      <td>9.8</td>\n",
       "      <td>Regular</td>\n",
       "      <td>0.045523</td>\n",
       "      <td>Baking Goods</td>\n",
       "      <td>35.0874</td>\n",
       "      <td>OUT017</td>\n",
       "      <td>2007</td>\n",
       "      <td>Medium</td>\n",
       "      <td>Tier 2</td>\n",
       "      <td>Supermarket Type1</td>\n",
       "      <td>352.874000</td>\n",
       "    </tr>\n",
       "  </tbody>\n",
       "</table>\n",
       "</div>"
      ],
      "text/plain": [
       "  Item_Identifier  Item_Weight Item_Fat_Content  Item_Visibility  \\\n",
       "0           FDT36         12.3          Low Fat         0.111448   \n",
       "1           FDT36         12.3          Low Fat         0.111904   \n",
       "2           FDT36         12.3               LF         0.111728   \n",
       "3           FDT36         12.3          Low Fat         0.000000   \n",
       "4           FDP12          9.8          Regular         0.045523   \n",
       "\n",
       "      Item_Type  Item_MRP Outlet_Identifier  Outlet_Establishment_Year  \\\n",
       "0  Baking Goods   33.4874            OUT049                       1999   \n",
       "1  Baking Goods   33.9874            OUT017                       2007   \n",
       "2  Baking Goods   33.9874            OUT018                       2009   \n",
       "3  Baking Goods   34.3874            OUT019                       1985   \n",
       "4  Baking Goods   35.0874            OUT017                       2007   \n",
       "\n",
       "  Outlet_Size Outlet_Location_Type        Outlet_Type  Item_Outlet_Sales  \n",
       "0      Medium               Tier 1  Supermarket Type1         436.608721  \n",
       "1      Medium               Tier 2  Supermarket Type1         443.127721  \n",
       "2      Medium               Tier 3  Supermarket Type2         564.598400  \n",
       "3       Small               Tier 1      Grocery Store        1719.370000  \n",
       "4      Medium               Tier 2  Supermarket Type1         352.874000  "
      ]
     },
     "execution_count": 120,
     "metadata": {},
     "output_type": "execute_result"
    }
   ],
   "source": [
    "sales.head()"
   ]
  },
  {
   "cell_type": "code",
   "execution_count": null,
   "id": "9be57c95",
   "metadata": {},
   "outputs": [],
   "source": [
    "sales.info()"
   ]
  },
  {
   "cell_type": "code",
   "execution_count": null,
   "id": "f4b11d9a",
   "metadata": {},
   "outputs": [],
   "source": [
    "sales.describe()"
   ]
  },
  {
   "cell_type": "markdown",
   "id": "3e6d4d97",
   "metadata": {},
   "source": [
    "# Data Visualization"
   ]
  },
  {
   "cell_type": "code",
   "execution_count": null,
   "id": "ffba6294",
   "metadata": {},
   "outputs": [],
   "source": [
    "import seaborn as sns"
   ]
  },
  {
   "cell_type": "code",
   "execution_count": null,
   "id": "b42846d9",
   "metadata": {},
   "outputs": [],
   "source": [
    "sns.pairplot(sales)"
   ]
  },
  {
   "cell_type": "markdown",
   "id": "3839bd7e",
   "metadata": {},
   "source": [
    "# Data Preprocessing"
   ]
  },
  {
   "cell_type": "code",
   "execution_count": null,
   "id": "7164d992",
   "metadata": {
    "scrolled": true
   },
   "outputs": [],
   "source": [
    "sales[[\"Item_Identifier\"]].value_counts()"
   ]
  },
  {
   "cell_type": "code",
   "execution_count": null,
   "id": "0a9bf8dd",
   "metadata": {},
   "outputs": [],
   "source": [
    "sales[[\"Item_Fat_Content\"]].value_counts()"
   ]
  },
  {
   "cell_type": "code",
   "execution_count": null,
   "id": "211198dd",
   "metadata": {},
   "outputs": [],
   "source": [
    "sales.replace({\"Item_Fat_Content\":{'LF':'Low Fat','reg':'Regular','low fat':'Low Fat'}},inplace=True)"
   ]
  },
  {
   "cell_type": "code",
   "execution_count": null,
   "id": "67f07f72",
   "metadata": {},
   "outputs": [],
   "source": [
    "sales[[\"Item_Fat_Content\"]].value_counts()"
   ]
  },
  {
   "cell_type": "code",
   "execution_count": null,
   "id": "70b86f29",
   "metadata": {},
   "outputs": [],
   "source": [
    "sales.replace({'Item_Fat_Content':{'Low Fat':0,'Regular':1}},inplace=True)"
   ]
  },
  {
   "cell_type": "code",
   "execution_count": null,
   "id": "23e5ef37",
   "metadata": {},
   "outputs": [],
   "source": [
    "sales[[\"Item_Type\"]].value_counts()"
   ]
  },
  {
   "cell_type": "code",
   "execution_count": null,
   "id": "23efc79b",
   "metadata": {},
   "outputs": [],
   "source": [
    "sales.replace({\"Item_Type\":{'Fruits and Vegetables':0,'Snack Foods':0,\n",
    "'Household':1,\n",
    "'Frozen Foods':0,\n",
    "'Dairy':0,\n",
    "'Baking Goods':0,\n",
    "'Canned':0,\n",
    "'Health and Hygiene':1,\n",
    "'Meat':0,\n",
    "'Soft Drinks':0,\n",
    "'Breads':0,\n",
    "'Hard Drinks':0,\n",
    "'Others':2,\n",
    "'Starchy Foods':0,\n",
    "'Breakfast':0,\n",
    "'Seafood':0}},inplace=True)"
   ]
  },
  {
   "cell_type": "code",
   "execution_count": null,
   "id": "6536a282",
   "metadata": {},
   "outputs": [],
   "source": [
    "sales[[\"Item_Type\"]].value_counts()"
   ]
  },
  {
   "cell_type": "code",
   "execution_count": null,
   "id": "62b5ada2",
   "metadata": {},
   "outputs": [],
   "source": [
    "sales[[\"Outlet_Identifier\"]].value_counts()"
   ]
  },
  {
   "cell_type": "code",
   "execution_count": null,
   "id": "d34fb283",
   "metadata": {},
   "outputs": [],
   "source": [
    "sales.replace({\"Outlet_Identifier\":{'OUT027':0,'OUT013':1,'OUT035':2,'OUT046':3,'OUT049':4,'OUT045':5,'OUT018':6,'OUT017':7,'OUT010':8,'OUT019':9}},inplace=True)"
   ]
  },
  {
   "cell_type": "code",
   "execution_count": null,
   "id": "739485f7",
   "metadata": {},
   "outputs": [],
   "source": [
    "sales[[\"Outlet_Identifier\"]].value_counts()"
   ]
  },
  {
   "cell_type": "code",
   "execution_count": null,
   "id": "56276c6b",
   "metadata": {},
   "outputs": [],
   "source": [
    "sales[[\"Outlet_Size\"]].value_counts()"
   ]
  },
  {
   "cell_type": "code",
   "execution_count": null,
   "id": "5b44e12b",
   "metadata": {},
   "outputs": [],
   "source": [
    "sales.replace({\"Outlet_Size\":{'Small':0,'Medium':1,'High':2}},inplace=True)"
   ]
  },
  {
   "cell_type": "code",
   "execution_count": null,
   "id": "e46968a2",
   "metadata": {},
   "outputs": [],
   "source": [
    "sales[[\"Outlet_Size\"]].value_counts()"
   ]
  },
  {
   "cell_type": "code",
   "execution_count": null,
   "id": "cb72c534",
   "metadata": {},
   "outputs": [],
   "source": [
    "sales[[\"Outlet_Location_Type\"]].value_counts()"
   ]
  },
  {
   "cell_type": "code",
   "execution_count": null,
   "id": "15a6da9c",
   "metadata": {},
   "outputs": [],
   "source": [
    "sales.replace({\"Outlet_Location_Type\":{'Tier 1':0,'Tier 2':1,'Tier 3':2}},inplace=True)"
   ]
  },
  {
   "cell_type": "code",
   "execution_count": null,
   "id": "48cbc129",
   "metadata": {},
   "outputs": [],
   "source": [
    "sales[[\"Outlet_Location_Type\"]].value_counts()"
   ]
  },
  {
   "cell_type": "code",
   "execution_count": null,
   "id": "5e85cc51",
   "metadata": {},
   "outputs": [],
   "source": [
    "sales[[\"Outlet_Type\"]].value_counts()"
   ]
  },
  {
   "cell_type": "code",
   "execution_count": null,
   "id": "05cf873c",
   "metadata": {},
   "outputs": [],
   "source": [
    "sales.replace({\"Outlet_Type\":{'Grocery Store':0,'Supermarket Type1':1,'Supermarket Type2':2,'Supermarket Type3':3}},inplace=True)"
   ]
  },
  {
   "cell_type": "code",
   "execution_count": null,
   "id": "187c0ed2",
   "metadata": {},
   "outputs": [],
   "source": [
    "sales[[\"Outlet_Type\"]].value_counts()"
   ]
  },
  {
   "cell_type": "code",
   "execution_count": null,
   "id": "4fd8b2e9",
   "metadata": {},
   "outputs": [],
   "source": [
    "sales.head()"
   ]
  },
  {
   "cell_type": "code",
   "execution_count": null,
   "id": "2ac23a6f",
   "metadata": {
    "scrolled": true
   },
   "outputs": [],
   "source": [
    "sales.isna().sum()"
   ]
  },
  {
   "cell_type": "code",
   "execution_count": null,
   "id": "9aeebb3a",
   "metadata": {},
   "outputs": [],
   "source": [
    "sales['Item_Weight']=sales['Item_Weight'].fillna(sales['Item_Weight'].median())"
   ]
  },
  {
   "cell_type": "code",
   "execution_count": null,
   "id": "93e87273",
   "metadata": {
    "scrolled": false
   },
   "outputs": [],
   "source": [
    "sales.isnull().sum()"
   ]
  },
  {
   "cell_type": "code",
   "execution_count": null,
   "id": "ab5545bf",
   "metadata": {},
   "outputs": [],
   "source": [
    "sales.columns"
   ]
  },
  {
   "cell_type": "markdown",
   "id": "344f9dfb",
   "metadata": {},
   "source": [
    "# Defining Target Variable(y) & Feature Variables(x)"
   ]
  },
  {
   "cell_type": "code",
   "execution_count": null,
   "id": "4c41dc96",
   "metadata": {},
   "outputs": [],
   "source": [
    "y=sales['Item_Outlet_Sales']"
   ]
  },
  {
   "cell_type": "code",
   "execution_count": null,
   "id": "a88aab88",
   "metadata": {},
   "outputs": [],
   "source": [
    "y.shape"
   ]
  },
  {
   "cell_type": "code",
   "execution_count": null,
   "id": "45e2495f",
   "metadata": {},
   "outputs": [],
   "source": [
    "x=sales[['Item_Weight', 'Item_Fat_Content', 'Item_Visibility',\n",
    "       'Item_Type', 'Item_MRP', 'Outlet_Identifier',\n",
    "       'Outlet_Establishment_Year', 'Outlet_Size', 'Outlet_Location_Type',\n",
    "       'Outlet_Type', ]]"
   ]
  },
  {
   "cell_type": "code",
   "execution_count": null,
   "id": "3b56bdbd",
   "metadata": {},
   "outputs": [],
   "source": [
    "x.shape"
   ]
  },
  {
   "cell_type": "markdown",
   "id": "ea1885a6",
   "metadata": {},
   "source": [
    "# Train Test Split"
   ]
  },
  {
   "cell_type": "code",
   "execution_count": null,
   "id": "1ac627f2",
   "metadata": {},
   "outputs": [],
   "source": [
    "from sklearn.model_selection import train_test_split"
   ]
  },
  {
   "cell_type": "code",
   "execution_count": null,
   "id": "32f4a592",
   "metadata": {},
   "outputs": [],
   "source": [
    "x_train,x_test,y_train,y_test=train_test_split(x,y)"
   ]
  },
  {
   "cell_type": "markdown",
   "id": "f4a035dc",
   "metadata": {},
   "source": [
    "# Modelling"
   ]
  },
  {
   "cell_type": "markdown",
   "id": "8b42292c",
   "metadata": {},
   "source": [
    "from sklearn.linear_model import LinearRegression"
   ]
  },
  {
   "cell_type": "code",
   "execution_count": null,
   "id": "354f9ed0",
   "metadata": {},
   "outputs": [],
   "source": [
    "model=LinearRegression()"
   ]
  },
  {
   "cell_type": "markdown",
   "id": "eb0e9328",
   "metadata": {},
   "source": [
    "# Model Evaluation"
   ]
  },
  {
   "cell_type": "code",
   "execution_count": null,
   "id": "59fe62b1",
   "metadata": {
    "scrolled": true
   },
   "outputs": [],
   "source": [
    "model.fit(x_train,y_train)"
   ]
  },
  {
   "cell_type": "markdown",
   "id": "7552b97d",
   "metadata": {},
   "source": [
    "# Prediction"
   ]
  },
  {
   "cell_type": "code",
   "execution_count": null,
   "id": "5ee2860f",
   "metadata": {},
   "outputs": [],
   "source": [
    "y_pred=model.predict(x_test)"
   ]
  },
  {
   "cell_type": "code",
   "execution_count": null,
   "id": "5b3fc54d",
   "metadata": {},
   "outputs": [],
   "source": [
    "y_pred"
   ]
  },
  {
   "cell_type": "markdown",
   "id": "dddfa2f3",
   "metadata": {},
   "source": [
    "# Accuracy Testing"
   ]
  },
  {
   "cell_type": "code",
   "execution_count": null,
   "id": "ec76b357",
   "metadata": {},
   "outputs": [],
   "source": [
    "from sklearn.metrics import mean_absolute_error, mean_absolute_percentage_error, mean_squared_error\n"
   ]
  },
  {
   "cell_type": "code",
   "execution_count": null,
   "id": "e4b6fa0a",
   "metadata": {},
   "outputs": [],
   "source": [
    "mean_absolute_percentage_error(y_test,y_pred)"
   ]
  },
  {
   "cell_type": "code",
   "execution_count": null,
   "id": "ac398dcf",
   "metadata": {},
   "outputs": [],
   "source": [
    "mean_absolute_error(y_test,y_pred)"
   ]
  },
  {
   "cell_type": "code",
   "execution_count": null,
   "id": "b0a5a5dd",
   "metadata": {
    "scrolled": true
   },
   "outputs": [],
   "source": [
    "mean_squared_error(y_test,y_pred)"
   ]
  },
  {
   "cell_type": "markdown",
   "id": "8e8c98a0",
   "metadata": {},
   "source": [
    "# Explanation"
   ]
  },
  {
   "cell_type": "markdown",
   "id": "9fd3358e",
   "metadata": {},
   "source": [
    "* We have used LinearRegression Technique to predict the Item_Outlet_sales\n",
    "* The accurate rate is 92.22 percentage"
   ]
  },
  {
   "cell_type": "code",
   "execution_count": null,
   "id": "aedc1a8b",
   "metadata": {},
   "outputs": [],
   "source": []
  },
  {
   "cell_type": "code",
   "execution_count": null,
   "id": "240ce755",
   "metadata": {},
   "outputs": [],
   "source": []
  }
 ],
 "metadata": {
  "kernelspec": {
   "display_name": "Python 3 (ipykernel)",
   "language": "python",
   "name": "python3"
  },
  "language_info": {
   "codemirror_mode": {
    "name": "ipython",
    "version": 3
   },
   "file_extension": ".py",
   "mimetype": "text/x-python",
   "name": "python",
   "nbconvert_exporter": "python",
   "pygments_lexer": "ipython3",
   "version": "3.11.5"
  }
 },
 "nbformat": 4,
 "nbformat_minor": 5
}
